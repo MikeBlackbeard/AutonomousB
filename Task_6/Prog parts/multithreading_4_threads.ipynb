{
 "cells": [
  {
   "cell_type": "code",
   "execution_count": 12,
   "id": "cf1d76a2",
   "metadata": {},
   "outputs": [],
   "source": [
    "import threading"
   ]
  },
  {
   "cell_type": "code",
   "execution_count": 13,
   "id": "ca6b63d9",
   "metadata": {},
   "outputs": [],
   "source": [
    "from threading import Thread"
   ]
  },
  {
   "cell_type": "code",
   "execution_count": 14,
   "id": "d74f777b",
   "metadata": {},
   "outputs": [],
   "source": [
    "import time"
   ]
  },
  {
   "cell_type": "code",
   "execution_count": 15,
   "id": "ff623d94",
   "metadata": {},
   "outputs": [],
   "source": [
    "file = open(\"removedPlants4.txt\",\"w+\")"
   ]
  },
  {
   "cell_type": "code",
   "execution_count": 16,
   "id": "aac7d664",
   "metadata": {},
   "outputs": [],
   "source": [
    "lock= threading.Lock()"
   ]
  },
  {
   "cell_type": "code",
   "execution_count": 17,
   "id": "4f84e013",
   "metadata": {},
   "outputs": [],
   "source": [
    "def firstDrone (lock):\n",
    "    \n",
    "    #Acquire the Lock\n",
    "    lock.acquire()\n",
    "    print(\"drone 1, I can access now!\")\n",
    "    \n",
    "    #write the found positions of weeds in the field \n",
    "    file.write(\"weed position zone 1\\n\")\n",
    "    time.sleep(0.2)\n",
    "    #releae the lock \n",
    "    lock.release()"
   ]
  },
  {
   "cell_type": "code",
   "execution_count": 18,
   "id": "cbe9712e",
   "metadata": {},
   "outputs": [],
   "source": [
    "def secondDrone (lock):\n",
    "    \n",
    "    #Acquire the Lock with 0.1 of timeout\n",
    "    while True:\n",
    "        if lock.acquire(timeout=0.1) is True:\n",
    "            print(\"drone 2, I can access now!\")\n",
    "            break\n",
    "        else:\n",
    "            print(\"drone 2, I can't access!\")\n",
    "    \n",
    "    #write the found positions of weeds in the field \n",
    "    file.write(\"weed position zone 2 \\n\")\n",
    "    time.sleep(0.2)\n",
    "    #releae the lock \n",
    "    lock.release()"
   ]
  },
  {
   "cell_type": "code",
   "execution_count": 19,
   "id": "8e146b83",
   "metadata": {},
   "outputs": [],
   "source": [
    "def thirdDrone (lock):\n",
    "    \n",
    "    #Acquire the Lock with 0.1 of timeout\n",
    "    while True:\n",
    "        if lock.acquire(timeout=0.1) is True:\n",
    "            print(\"drone 3, I can access now!\")\n",
    "            break\n",
    "        else:\n",
    "            print(\"drone 3, I can't access!\")\n",
    "    \n",
    "    #write the found positions of weeds in the field \n",
    "    file.write(\"weed position zone 3 \\n\")\n",
    "    time.sleep(0.2)\n",
    "    #releae the lock \n",
    "    lock.release()"
   ]
  },
  {
   "cell_type": "code",
   "execution_count": 20,
   "id": "71d72470",
   "metadata": {},
   "outputs": [],
   "source": [
    "def fourthDrone (lock):\n",
    "    \n",
    "    #Acquire the Lock with 0.1 of timeout\n",
    "    while True:\n",
    "        if lock.acquire(timeout=0.1) is True:\n",
    "            print(\"drone 4, I can access now!\")\n",
    "            break\n",
    "        else:\n",
    "            print(\"drone 4, I can't access!\")\n",
    "    \n",
    "    #write the found positions of weeds in the field \n",
    "    file.write(\"weed position zone 4 \\n\")\n",
    "    time.sleep(0.2)\n",
    "    #releae the lock \n",
    "    lock.release()"
   ]
  },
  {
   "cell_type": "code",
   "execution_count": 21,
   "id": "f66be811",
   "metadata": {},
   "outputs": [],
   "source": [
    "#create the threads for each drone\n",
    "\n",
    "thread1= Thread (target=firstDrone, args=(lock,))\n",
    "thread2= Thread (target=secondDrone, args=(lock,))\n",
    "thread3= Thread (target=thirdDrone, args=(lock,))\n",
    "thread4= Thread (target=fourthDrone, args=(lock,))"
   ]
  },
  {
   "cell_type": "code",
   "execution_count": 22,
   "id": "f79894af",
   "metadata": {},
   "outputs": [
    {
     "name": "stdout",
     "output_type": "stream",
     "text": [
      "drone 1, I can access now!\n",
      "drone 2, I can't access!\n",
      "drone 3, I can't access!\n",
      "drone 4, I can't access!\n",
      "drone 2, I can access now!\n",
      "drone 3, I can't access!\n",
      "drone 4, I can't access!\n",
      "drone 4, I can't access!\n",
      "drone 3, I can't access!\n",
      "drone 4, I can access now!\n",
      "drone 3, I can't access!\n",
      "drone 3, I can't access!\n",
      "drone 3, I can access now!\n"
     ]
    }
   ],
   "source": [
    "#run  all threads and use join\n",
    "\n",
    "thread1.start()\n",
    "thread2.start()\n",
    "thread3.start()\n",
    "thread4.start()\n",
    "\n",
    "#wait for the threads to finish\n",
    "\n",
    "thread1.join()\n",
    "thread2.join()\n",
    "thread3.join()\n",
    "thread4.join()"
   ]
  },
  {
   "cell_type": "code",
   "execution_count": null,
   "id": "6a3feca3",
   "metadata": {},
   "outputs": [],
   "source": []
  }
 ],
 "metadata": {
  "kernelspec": {
   "display_name": "Python 3 (ipykernel)",
   "language": "python",
   "name": "python3"
  },
  "language_info": {
   "codemirror_mode": {
    "name": "ipython",
    "version": 3
   },
   "file_extension": ".py",
   "mimetype": "text/x-python",
   "name": "python",
   "nbconvert_exporter": "python",
   "pygments_lexer": "ipython3",
   "version": "3.9.12"
  }
 },
 "nbformat": 4,
 "nbformat_minor": 5
}
