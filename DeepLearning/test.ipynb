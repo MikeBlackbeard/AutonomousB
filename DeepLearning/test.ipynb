{
 "cells": [
  {
   "cell_type": "code",
   "execution_count": 2,
   "id": "69b7d77b",
   "metadata": {},
   "outputs": [],
   "source": [
    "import cv2\n",
    "import tensorflow as tf\n",
    "import numpy as np\n",
    "from keras import models, layers, callbacks\n",
    "from keras.preprocessing import image\n",
    "import os\n",
    "from prettytable import PrettyTable"
   ]
  },
  {
   "cell_type": "code",
   "execution_count": 4,
   "id": "fb44c399",
   "metadata": {},
   "outputs": [],
   "source": [
    "model= models.load_model('modelGenGroup1.h5')"
   ]
  },
  {
   "cell_type": "code",
   "execution_count": 5,
   "id": "c443c3c6",
   "metadata": {},
   "outputs": [],
   "source": [
    "def color_segment_function(img_array):\n",
    "    img_array= np.rint(img_array)\n",
    "    img_array= img_array.astype('uint8')\n",
    "    hsv_img= cv2.cvtColor(img_array, cv2.COLOR_RGB2HSV)\n",
    "    mask = cv2.inRange(hsv_img, (24, 50, 0), (55, 255, 255))\n",
    "    result = cv2.bitwise_and(img_array, img_array, mask=mask)\n",
    "    result= result.astype('float64')\n",
    "    return result\n"
   ]
  },
  {
   "cell_type": "code",
   "execution_count": 6,
   "id": "1aca26b4",
   "metadata": {},
   "outputs": [],
   "source": [
    "#image function from keras.preprocessing\n",
    "train_datagen = image.ImageDataGenerator(\n",
    "      rescale=1./255,\n",
    "      rotation_range=40,\n",
    "      width_shift_range=0.0,\n",
    "      height_shift_range=0.0,\n",
    "      shear_range=0.0,\n",
    "      zoom_range=0.0,\n",
    "      horizontal_flip=True,\n",
    "      vertical_flip= True,\n",
    "    preprocessing_function=color_segment_function,\n",
    "      fill_mode='nearest')\n",
    "\n",
    "test_datagen = image.ImageDataGenerator(rescale=1./255, preprocessing_function=color_segment_function)"
   ]
  },
  {
   "cell_type": "code",
   "execution_count": 7,
   "id": "37698b49",
   "metadata": {},
   "outputs": [
    {
     "name": "stdout",
     "output_type": "stream",
     "text": [
      "Found 900 images belonging to 1 classes.\n"
     ]
    }
   ],
   "source": [
    "path ='/home/mike/Downloads/Classification'\n",
    "test_ = os.path.join(path, 'test')\n",
    "test_generator = test_datagen.flow_from_directory(\n",
    "        test_,\n",
    "        target_size=(150,150),\n",
    "        batch_size=1,\n",
    "        class_mode='categorical',\n",
    "        shuffle=False)"
   ]
  },
  {
   "cell_type": "code",
   "execution_count": 8,
   "id": "9f766a98",
   "metadata": {},
   "outputs": [
    {
     "name": "stderr",
     "output_type": "stream",
     "text": [
      "/tmp/ipykernel_30465/4246402030.py:1: UserWarning: `Model.predict_generator` is deprecated and will be removed in a future version. Please use `Model.predict`, which supports generators.\n",
      "  pred= model.predict_generator(test_generator, steps= test_generator.n, verbose=1)\n"
     ]
    },
    {
     "name": "stdout",
     "output_type": "stream",
     "text": [
      "900/900 [==============================] - 14s 15ms/step\n"
     ]
    }
   ],
   "source": [
    "pred= model.predict_generator(test_generator, steps= test_generator.n, verbose=1)"
   ]
  },
  {
   "cell_type": "code",
   "execution_count": 9,
   "id": "31f83640",
   "metadata": {},
   "outputs": [],
   "source": [
    "label_map = {0: 'black_grass',\n",
    " 1: 'charlock',\n",
    " 2: 'cleavers',\n",
    " 3: 'common_chickweed',\n",
    " 4: 'common_wheat',\n",
    " 5: 'fat_hen',\n",
    " 6: 'loose_silky_bent',\n",
    " 7: 'maize',\n",
    " 8: 'scentless_mayweed',\n",
    " 9: 'shepherds_purse',\n",
    " 10: 'small_flowered_cranesbill',\n",
    " 11: 'sugar_beet'}"
   ]
  },
  {
   "cell_type": "code",
   "execution_count": 10,
   "id": "95285800",
   "metadata": {},
   "outputs": [],
   "source": [
    "predicted_class_indices=np.argmax(pred,axis=1)\n",
    "\n",
    "prediction_labels = [label_map[k] for k in predicted_class_indices]\n",
    "filenames= test_generator.filenames"
   ]
  },
  {
   "cell_type": "code",
   "execution_count": 11,
   "id": "d475e440",
   "metadata": {},
   "outputs": [
    {
     "name": "stdout",
     "output_type": "stream",
     "text": [
      "+---------+-------------+\n",
      "|   file  |   species   |\n",
      "+---------+-------------+\n",
      "| 000.png | black_grass |\n",
      "| 001.png | black_grass |\n",
      "| 002.png | black_grass |\n",
      "| 003.png | black_grass |\n",
      "| 004.png | black_grass |\n",
      "| 005.png | black_grass |\n",
      "| 006.png | black_grass |\n",
      "| 007.png | black_grass |\n",
      "| 008.png | black_grass |\n",
      "| 009.png | black_grass |\n",
      "|    .    |      .      |\n",
      "|    .    |      .      |\n",
      "|    .    |      .      |\n",
      "+---------+-------------+\n"
     ]
    }
   ],
   "source": [
    "import csv\n",
    "csvfile= open('group1detections.csv', 'w', newline='')\n",
    "writer= csv.writer(csvfile)\n",
    "\n",
    "headers= ['file', 'species']\n",
    "\n",
    "writer.writerow(headers)\n",
    "t = PrettyTable(headers)\n",
    "for i, f, p in zip(range(len(filenames)), filenames, prediction_labels):\n",
    "    writer.writerow([os.path.basename(f),p])\n",
    "    if i <10:\n",
    "        t.add_row([os.path.basename(f), p])\n",
    "    elif i<13:\n",
    "        t.add_row(['.', '.'])\n",
    "csvfile.close()\n",
    "print(t)"
   ]
  },
  {
   "cell_type": "code",
   "execution_count": null,
   "id": "f2c53fb1",
   "metadata": {},
   "outputs": [],
   "source": [
    "file = open('results.txt', 'x')\n",
    "file.write('id;label\\n')\n",
    "for i in range (len(prediction_labels)):\n",
    "    if(i<10):\n",
    "        file.write('00'+str(i)+';'+prediction_labels[i]+'\\n')\n",
    "    elif(1<100):\n",
    "        file.write('0'+str(i)+ ';'+prediction_labels[i]+'\\n')\n",
    "    else:\n",
    "        file.write(str(i)+';'+prediction_labels[i]+'\\n')"
   ]
  }
 ],
 "metadata": {
  "kernelspec": {
   "display_name": "Python 3 (ipykernel)",
   "language": "python",
   "name": "python3"
  },
  "language_info": {
   "codemirror_mode": {
    "name": "ipython",
    "version": 3
   },
   "file_extension": ".py",
   "mimetype": "text/x-python",
   "name": "python",
   "nbconvert_exporter": "python",
   "pygments_lexer": "ipython3",
   "version": "3.9.12"
  }
 },
 "nbformat": 4,
 "nbformat_minor": 5
}
