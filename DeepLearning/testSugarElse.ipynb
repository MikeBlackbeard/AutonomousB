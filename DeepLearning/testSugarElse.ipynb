{
 "cells": [
  {
   "cell_type": "code",
   "execution_count": 1,
   "id": "69b7d77b",
   "metadata": {},
   "outputs": [
    {
     "name": "stderr",
     "output_type": "stream",
     "text": [
      "2023-01-08 21:32:18.555728: I tensorflow/core/platform/cpu_feature_guard.cc:193] This TensorFlow binary is optimized with oneAPI Deep Neural Network Library (oneDNN) to use the following CPU instructions in performance-critical operations:  AVX2\n",
      "To enable them in other operations, rebuild TensorFlow with the appropriate compiler flags.\n",
      "2023-01-08 21:32:18.747128: W tensorflow/compiler/xla/stream_executor/platform/default/dso_loader.cc:64] Could not load dynamic library 'libcudart.so.11.0'; dlerror: libcudart.so.11.0: cannot open shared object file: No such file or directory; LD_LIBRARY_PATH: /home/mike/anaconda3/lib/python3.9/site-packages/cv2/../../lib64:\n",
      "2023-01-08 21:32:18.747152: I tensorflow/compiler/xla/stream_executor/cuda/cudart_stub.cc:29] Ignore above cudart dlerror if you do not have a GPU set up on your machine.\n",
      "2023-01-08 21:32:19.810216: W tensorflow/compiler/xla/stream_executor/platform/default/dso_loader.cc:64] Could not load dynamic library 'libnvinfer.so.7'; dlerror: libnvinfer.so.7: cannot open shared object file: No such file or directory; LD_LIBRARY_PATH: /home/mike/anaconda3/lib/python3.9/site-packages/cv2/../../lib64:\n",
      "2023-01-08 21:32:19.810327: W tensorflow/compiler/xla/stream_executor/platform/default/dso_loader.cc:64] Could not load dynamic library 'libnvinfer_plugin.so.7'; dlerror: libnvinfer_plugin.so.7: cannot open shared object file: No such file or directory; LD_LIBRARY_PATH: /home/mike/anaconda3/lib/python3.9/site-packages/cv2/../../lib64:\n",
      "2023-01-08 21:32:19.810339: W tensorflow/compiler/tf2tensorrt/utils/py_utils.cc:38] TF-TRT Warning: Cannot dlopen some TensorRT libraries. If you would like to use Nvidia GPU with TensorRT, please make sure the missing libraries mentioned above are installed properly.\n"
     ]
    }
   ],
   "source": [
    "import cv2\n",
    "import tensorflow as tf\n",
    "import numpy as np\n",
    "from keras import models, layers, callbacks\n",
    "from keras.preprocessing import image\n",
    "import os\n",
    "from prettytable import PrettyTable"
   ]
  },
  {
   "cell_type": "code",
   "execution_count": 2,
   "id": "fb44c399",
   "metadata": {},
   "outputs": [
    {
     "name": "stderr",
     "output_type": "stream",
     "text": [
      "2023-01-08 21:32:22.665406: W tensorflow/compiler/xla/stream_executor/platform/default/dso_loader.cc:64] Could not load dynamic library 'libcuda.so.1'; dlerror: libcuda.so.1: cannot open shared object file: No such file or directory; LD_LIBRARY_PATH: /home/mike/anaconda3/lib/python3.9/site-packages/cv2/../../lib64:\n",
      "2023-01-08 21:32:22.665437: W tensorflow/compiler/xla/stream_executor/cuda/cuda_driver.cc:265] failed call to cuInit: UNKNOWN ERROR (303)\n",
      "2023-01-08 21:32:22.665461: I tensorflow/compiler/xla/stream_executor/cuda/cuda_diagnostics.cc:156] kernel driver does not appear to be running on this host (mike-VirtualBox): /proc/driver/nvidia/version does not exist\n",
      "2023-01-08 21:32:22.665742: I tensorflow/core/platform/cpu_feature_guard.cc:193] This TensorFlow binary is optimized with oneAPI Deep Neural Network Library (oneDNN) to use the following CPU instructions in performance-critical operations:  AVX2\n",
      "To enable them in other operations, rebuild TensorFlow with the appropriate compiler flags.\n"
     ]
    }
   ],
   "source": [
    "model= models.load_model('ModelSug2Group1.h5')"
   ]
  },
  {
   "cell_type": "code",
   "execution_count": 3,
   "id": "c443c3c6",
   "metadata": {},
   "outputs": [],
   "source": [
    "def color_segment_function(img_array):\n",
    "    img_array= np.rint(img_array)\n",
    "    img_array= img_array.astype('uint8')\n",
    "    hsv_img= cv2.cvtColor(img_array, cv2.COLOR_RGB2HSV)\n",
    "    mask = cv2.inRange(hsv_img, (24, 50, 0), (55, 255, 255))\n",
    "    result = cv2.bitwise_and(img_array, img_array, mask=mask)\n",
    "    result= result.astype('float64')\n",
    "    return result\n"
   ]
  },
  {
   "cell_type": "code",
   "execution_count": 4,
   "id": "1aca26b4",
   "metadata": {},
   "outputs": [],
   "source": [
    "#image function from keras.preprocessing\n",
    "train_datagen = image.ImageDataGenerator(\n",
    "      rescale=1./255,\n",
    "      rotation_range=40,\n",
    "      width_shift_range=0.0,\n",
    "      height_shift_range=0.0,\n",
    "      shear_range=0.0,\n",
    "      zoom_range=0.0,\n",
    "      horizontal_flip=True,\n",
    "      vertical_flip= True,\n",
    "    preprocessing_function=color_segment_function,\n",
    "      fill_mode='nearest')\n",
    "\n",
    "test_datagen = image.ImageDataGenerator(rescale=1./255, preprocessing_function=color_segment_function)"
   ]
  },
  {
   "cell_type": "code",
   "execution_count": 7,
   "id": "37698b49",
   "metadata": {},
   "outputs": [
    {
     "name": "stdout",
     "output_type": "stream",
     "text": [
      "Found 900 images belonging to 1 classes.\n"
     ]
    }
   ],
   "source": [
    "path ='/home/mike/Downloads'\n",
    "test_ = os.path.join(path, 'Competition_group1')\n",
    "test = test_datagen.flow_from_directory(\n",
    "        test_,\n",
    "        target_size=(150,150),\n",
    "        batch_size=1,\n",
    "        class_mode='categorical',\n",
    "        shuffle=False)"
   ]
  },
  {
   "cell_type": "code",
   "execution_count": 8,
   "id": "9f766a98",
   "metadata": {},
   "outputs": [
    {
     "name": "stdout",
     "output_type": "stream",
     "text": [
      "900/900 [==============================] - 18s 20ms/step\n"
     ]
    }
   ],
   "source": [
    "pred= model.predict(test, steps= test.n, verbose=1)"
   ]
  },
  {
   "cell_type": "code",
   "execution_count": 9,
   "id": "31f83640",
   "metadata": {},
   "outputs": [],
   "source": [
    "label_map = {0: 'weed',\n",
    " 1: 'sugar_beet'}"
   ]
  },
  {
   "cell_type": "code",
   "execution_count": 13,
   "id": "95285800",
   "metadata": {},
   "outputs": [],
   "source": [
    "predicted_class_indices=np.argmax(pred,axis=1)\n",
    "\n",
    "prediction_labels = [label_map[k] for k in predicted_class_indices]\n",
    "filenames= test.filenames"
   ]
  },
  {
   "cell_type": "code",
   "execution_count": 14,
   "id": "d475e440",
   "metadata": {},
   "outputs": [
    {
     "name": "stdout",
     "output_type": "stream",
     "text": [
      "+---------+-------+\n",
      "|    id   | label |\n",
      "+---------+-------+\n",
      "| 000.png |  weed |\n",
      "| 001.png |  weed |\n",
      "| 002.png |  weed |\n",
      "| 003.png |  weed |\n",
      "| 004.png |  weed |\n",
      "| 005.png |  weed |\n",
      "| 006.png |  weed |\n",
      "| 007.png |  weed |\n",
      "| 008.png |  weed |\n",
      "| 009.png |  weed |\n",
      "|    .    |   .   |\n",
      "|    .    |   .   |\n",
      "|    .    |   .   |\n",
      "+---------+-------+\n"
     ]
    }
   ],
   "source": [
    "import csv\n",
    "csvfile= open('group1detections.csv', 'w', newline='')\n",
    "writer= csv.writer(csvfile)\n",
    "\n",
    "headers= ['id', 'label']\n",
    "\n",
    "writer.writerow(headers)\n",
    "t = PrettyTable(headers)\n",
    "for i, f, p in zip(range(len(filenames)), filenames, prediction_labels):\n",
    "    writer.writerow([os.path.basename(f),p])\n",
    "    if i <10:\n",
    "        t.add_row([os.path.basename(f), p])\n",
    "    elif i<13:\n",
    "        t.add_row(['.', '.'])\n",
    "csvfile.close()\n",
    "print(t)"
   ]
  },
  {
   "cell_type": "code",
   "execution_count": 16,
   "id": "1f9f08f8",
   "metadata": {},
   "outputs": [],
   "source": [
    "file = open('results.txt', 'x')\n",
    "file.write('id;label\\n')\n",
    "for i in range (len(prediction_labels)):\n",
    "    if(i<10):\n",
    "        file.write('00'+str(i)+';'+prediction_labels[i]+'\\n')\n",
    "    elif(1<100):\n",
    "        file.write('0'+str(i)+ ';'+prediction_labels[i]+'\\n')\n",
    "    else:\n",
    "        file.write(str(i)+';'+prediction_labels[i]+'\\n')"
   ]
  }
 ],
 "metadata": {
  "kernelspec": {
   "display_name": "Python 3 (ipykernel)",
   "language": "python",
   "name": "python3"
  },
  "language_info": {
   "codemirror_mode": {
    "name": "ipython",
    "version": 3
   },
   "file_extension": ".py",
   "mimetype": "text/x-python",
   "name": "python",
   "nbconvert_exporter": "python",
   "pygments_lexer": "ipython3",
   "version": "3.9.12"
  }
 },
 "nbformat": 4,
 "nbformat_minor": 5
}
